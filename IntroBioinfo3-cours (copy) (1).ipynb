{
  "metadata": {
    "kernelspec": {
      "name": "python",
      "display_name": "Python (Pyodide)",
      "language": "python"
    },
    "language_info": {
      "codemirror_mode": {
        "name": "python",
        "version": 3
      },
      "file_extension": ".py",
      "mimetype": "text/x-python",
      "name": "python",
      "nbconvert_exporter": "python",
      "pygments_lexer": "ipython3",
      "version": "3.8"
    }
  },
  "nbformat_minor": 4,
  "nbformat": 4,
  "cells": [
    {
      "cell_type": "markdown",
      "source": "BioPython est une bibliothèque Python open source conçue pour faciliter les analyses bioinformatiques et le traitement de données biologiques. Elle offre des outils pour manipuler des séquences d'ADN, ARN et protéines, interagir avec des bases de données biologiques, effectuer des analyses phylogénétiques, et travailler avec des formats de fichiers courants comme FASTA, GenBank ou PDB. BioPython est particulièrement utile pour automatiser des tâches répétitives et intégrer des pipelines d’analyse bioinformatique grâce à ses nombreuses fonctionnalités et sa facilité d'utilisation.",
      "metadata": {}
    },
    {
      "cell_type": "code",
      "source": "from Bio.Seq import Seq \n\nmy_seq = Seq(\"AGTACACTGGT\")\nprint(my_seq)",
      "metadata": {
        "trusted": true
      },
      "outputs": [
        {
          "name": "stdout",
          "text": "AGTACACTGGT\n",
          "output_type": "stream"
        }
      ],
      "execution_count": 4
    },
    {
      "cell_type": "code",
      "source": "print(f'Séquence complémentaire : {my_seq.complement()}')\n\nprint(f'Complément de la séquence complémentaire : {my_seq.reverse_complement()}')",
      "metadata": {
        "trusted": true
      },
      "outputs": [
        {
          "name": "stdout",
          "text": "Séquence complémentaire : TCATGTGACCA\nComplément de la séquence complémentaire : ACCAGTGTACT\n",
          "output_type": "stream"
        }
      ],
      "execution_count": 8
    },
    {
      "cell_type": "markdown",
      "source": "You can access elements of the sequence in the same way as for strings (but remember, Python counts from zero!):",
      "metadata": {}
    },
    {
      "cell_type": "code",
      "source": "print(my_seq[0])  # first letter\nprint(my_seq[2])  # third letter\nprint(my_seq[-1])  # last letter",
      "metadata": {
        "trusted": true
      },
      "outputs": [
        {
          "name": "stdout",
          "text": "A\nT\nT\n",
          "output_type": "stream"
        }
      ],
      "execution_count": 9
    },
    {
      "cell_type": "markdown",
      "source": "The Seq object has a .count() method, just like a string. Note that this means that like a Python string, this gives a non-overlapping count:",
      "metadata": {}
    },
    {
      "cell_type": "code",
      "source": "print(my_seq.count(\"A\"))",
      "metadata": {
        "trusted": true
      },
      "outputs": [
        {
          "name": "stdout",
          "text": "3\n",
          "output_type": "stream"
        }
      ],
      "execution_count": 10
    },
    {
      "cell_type": "markdown",
      "source": "For some biological uses, you may actually want an overlapping count (i.e. in this trivial example). When searching for single letters, this makes no difference:",
      "metadata": {}
    },
    {
      "cell_type": "code",
      "source": "from Bio.Seq import Seq\nlong_seq = Seq(\"GATCGATGGGCCTATATAGGATCGAAAATCGC\")\nprint(len(long_seq))\n\nlong_seq.count(\"G\")\n9\n100 * (long_seq.count(\"G\") + long_seq.count(\"C\")) / len(long_seq)\n46.875",
      "metadata": {
        "trusted": true
      },
      "outputs": [
        {
          "name": "stdout",
          "text": "32\n",
          "output_type": "stream"
        },
        {
          "execution_count": 11,
          "output_type": "execute_result",
          "data": {
            "text/plain": "46.875"
          },
          "metadata": {}
        }
      ],
      "execution_count": 11
    },
    {
      "cell_type": "markdown",
      "source": "While you could use the above snippet of code to calculate a GC%, note that the Bio.SeqUtils module has several GC functions already built. For example:",
      "metadata": {}
    },
    {
      "cell_type": "code",
      "source": "from Bio.Seq import Seq\nfrom Bio.SeqUtils import gc_fraction\nlong_seq = Seq(\"GATCGATGGGCCTATATAGGATCGAAAATCGC\")\nprint(gc_fraction(long_seq))",
      "metadata": {
        "trusted": true
      },
      "outputs": [
        {
          "name": "stdout",
          "text": "0.46875\n",
          "output_type": "stream"
        }
      ],
      "execution_count": 12
    },
    {
      "cell_type": "markdown",
      "source": "Also note that just like a normal Python string, the Seq object is in some ways “read-only”. If you need to edit your sequence, for example simulating a point mutation, look at the Section MutableSeq objects below which talks about the MutableSeq object.",
      "metadata": {}
    },
    {
      "cell_type": "code",
      "source": "long_seq = Seq(\"GATCGATGGGCCTATATAGGATCGAAAATCGC\")\nlong_seq[3] = 'F'",
      "metadata": {
        "trusted": true
      },
      "outputs": [
        {
          "ename": "<class 'TypeError'>",
          "evalue": "'Seq' object does not support item assignment",
          "traceback": [
            "\u001b[0;31m---------------------------------------------------------------------------\u001b[0m",
            "\u001b[0;31mTypeError\u001b[0m                                 Traceback (most recent call last)",
            "Cell \u001b[0;32mIn[13], line 2\u001b[0m\n\u001b[1;32m      1\u001b[0m long_seq \u001b[38;5;241m=\u001b[39m Seq(\u001b[38;5;124m\"\u001b[39m\u001b[38;5;124mGATCGATGGGCCTATATAGGATCGAAAATCGC\u001b[39m\u001b[38;5;124m\"\u001b[39m)\n\u001b[0;32m----> 2\u001b[0m \u001b[43mlong_seq\u001b[49m\u001b[43m[\u001b[49m\u001b[38;5;241;43m3\u001b[39;49m\u001b[43m]\u001b[49m \u001b[38;5;241m=\u001b[39m \u001b[38;5;124m'\u001b[39m\u001b[38;5;124mF\u001b[39m\u001b[38;5;124m'\u001b[39m\n",
            "\u001b[0;31mTypeError\u001b[0m: 'Seq' object does not support item assignment"
          ],
          "output_type": "error"
        }
      ],
      "execution_count": 13
    },
    {
      "cell_type": "code",
      "source": "",
      "metadata": {
        "trusted": true
      },
      "outputs": [],
      "execution_count": null
    }
  ]
}